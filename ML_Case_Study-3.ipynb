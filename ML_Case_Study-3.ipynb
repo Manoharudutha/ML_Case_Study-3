{
 "cells": [
  {
   "cell_type": "code",
   "execution_count": 3,
   "metadata": {
    "id": "tmtgHa5A7Izz"
   },
   "outputs": [],
   "source": [
    "import numpy as np \n",
    "import pandas as pd \n",
    "import matplotlib.pyplot as plt\n",
    "import seaborn as sns\n",
    "import warnings\n",
    "warnings.filterwarnings(\"ignore\")"
   ]
  },
  {
   "cell_type": "code",
   "execution_count": 4,
   "metadata": {
    "colab": {
     "base_uri": "https://localhost:8080/",
     "height": 424
    },
    "id": "-u-3OUyd7dAT",
    "outputId": "ddde071a-a2ac-4a44-aeca-2cc01cf044c0"
   },
   "outputs": [
    {
     "data": {
      "text/html": [
       "<div>\n",
       "<style scoped>\n",
       "    .dataframe tbody tr th:only-of-type {\n",
       "        vertical-align: middle;\n",
       "    }\n",
       "\n",
       "    .dataframe tbody tr th {\n",
       "        vertical-align: top;\n",
       "    }\n",
       "\n",
       "    .dataframe thead th {\n",
       "        text-align: right;\n",
       "    }\n",
       "</style>\n",
       "<table border=\"1\" class=\"dataframe\">\n",
       "  <thead>\n",
       "    <tr style=\"text-align: right;\">\n",
       "      <th></th>\n",
       "      <th>Year</th>\n",
       "      <th>Month</th>\n",
       "      <th>MEI</th>\n",
       "      <th>CO2</th>\n",
       "      <th>CH4</th>\n",
       "      <th>N2O</th>\n",
       "      <th>CFC-11</th>\n",
       "      <th>CFC-12</th>\n",
       "      <th>TSI</th>\n",
       "      <th>Aerosols</th>\n",
       "      <th>Temp</th>\n",
       "    </tr>\n",
       "  </thead>\n",
       "  <tbody>\n",
       "    <tr>\n",
       "      <th>0</th>\n",
       "      <td>1983</td>\n",
       "      <td>5</td>\n",
       "      <td>2.556</td>\n",
       "      <td>345.96</td>\n",
       "      <td>1638.59</td>\n",
       "      <td>303.677</td>\n",
       "      <td>191.324</td>\n",
       "      <td>350.113</td>\n",
       "      <td>1366.1024</td>\n",
       "      <td>0.0863</td>\n",
       "      <td>0.109</td>\n",
       "    </tr>\n",
       "    <tr>\n",
       "      <th>1</th>\n",
       "      <td>1983</td>\n",
       "      <td>6</td>\n",
       "      <td>2.167</td>\n",
       "      <td>345.52</td>\n",
       "      <td>1633.71</td>\n",
       "      <td>303.746</td>\n",
       "      <td>192.057</td>\n",
       "      <td>351.848</td>\n",
       "      <td>1366.1208</td>\n",
       "      <td>0.0794</td>\n",
       "      <td>0.118</td>\n",
       "    </tr>\n",
       "    <tr>\n",
       "      <th>2</th>\n",
       "      <td>1983</td>\n",
       "      <td>7</td>\n",
       "      <td>1.741</td>\n",
       "      <td>344.15</td>\n",
       "      <td>1633.22</td>\n",
       "      <td>303.795</td>\n",
       "      <td>192.818</td>\n",
       "      <td>353.725</td>\n",
       "      <td>1366.2850</td>\n",
       "      <td>0.0731</td>\n",
       "      <td>0.137</td>\n",
       "    </tr>\n",
       "    <tr>\n",
       "      <th>3</th>\n",
       "      <td>1983</td>\n",
       "      <td>8</td>\n",
       "      <td>1.130</td>\n",
       "      <td>342.25</td>\n",
       "      <td>1631.35</td>\n",
       "      <td>303.839</td>\n",
       "      <td>193.602</td>\n",
       "      <td>355.633</td>\n",
       "      <td>1366.4202</td>\n",
       "      <td>0.0673</td>\n",
       "      <td>0.176</td>\n",
       "    </tr>\n",
       "    <tr>\n",
       "      <th>4</th>\n",
       "      <td>1983</td>\n",
       "      <td>9</td>\n",
       "      <td>0.428</td>\n",
       "      <td>340.17</td>\n",
       "      <td>1648.40</td>\n",
       "      <td>303.901</td>\n",
       "      <td>194.392</td>\n",
       "      <td>357.465</td>\n",
       "      <td>1366.2335</td>\n",
       "      <td>0.0619</td>\n",
       "      <td>0.149</td>\n",
       "    </tr>\n",
       "    <tr>\n",
       "      <th>...</th>\n",
       "      <td>...</td>\n",
       "      <td>...</td>\n",
       "      <td>...</td>\n",
       "      <td>...</td>\n",
       "      <td>...</td>\n",
       "      <td>...</td>\n",
       "      <td>...</td>\n",
       "      <td>...</td>\n",
       "      <td>...</td>\n",
       "      <td>...</td>\n",
       "      <td>...</td>\n",
       "    </tr>\n",
       "    <tr>\n",
       "      <th>303</th>\n",
       "      <td>2008</td>\n",
       "      <td>8</td>\n",
       "      <td>-0.266</td>\n",
       "      <td>384.15</td>\n",
       "      <td>1779.88</td>\n",
       "      <td>321.405</td>\n",
       "      <td>244.200</td>\n",
       "      <td>535.072</td>\n",
       "      <td>1365.6570</td>\n",
       "      <td>0.0036</td>\n",
       "      <td>0.407</td>\n",
       "    </tr>\n",
       "    <tr>\n",
       "      <th>304</th>\n",
       "      <td>2008</td>\n",
       "      <td>9</td>\n",
       "      <td>-0.643</td>\n",
       "      <td>383.09</td>\n",
       "      <td>1795.08</td>\n",
       "      <td>321.529</td>\n",
       "      <td>244.083</td>\n",
       "      <td>535.048</td>\n",
       "      <td>1365.6647</td>\n",
       "      <td>0.0043</td>\n",
       "      <td>0.378</td>\n",
       "    </tr>\n",
       "    <tr>\n",
       "      <th>305</th>\n",
       "      <td>2008</td>\n",
       "      <td>10</td>\n",
       "      <td>-0.780</td>\n",
       "      <td>382.99</td>\n",
       "      <td>1814.18</td>\n",
       "      <td>321.796</td>\n",
       "      <td>244.080</td>\n",
       "      <td>534.927</td>\n",
       "      <td>1365.6759</td>\n",
       "      <td>0.0046</td>\n",
       "      <td>0.440</td>\n",
       "    </tr>\n",
       "    <tr>\n",
       "      <th>306</th>\n",
       "      <td>2008</td>\n",
       "      <td>11</td>\n",
       "      <td>-0.621</td>\n",
       "      <td>384.13</td>\n",
       "      <td>1812.37</td>\n",
       "      <td>322.013</td>\n",
       "      <td>244.225</td>\n",
       "      <td>534.906</td>\n",
       "      <td>1365.7065</td>\n",
       "      <td>0.0048</td>\n",
       "      <td>0.394</td>\n",
       "    </tr>\n",
       "    <tr>\n",
       "      <th>307</th>\n",
       "      <td>2008</td>\n",
       "      <td>12</td>\n",
       "      <td>-0.666</td>\n",
       "      <td>385.56</td>\n",
       "      <td>1812.88</td>\n",
       "      <td>322.182</td>\n",
       "      <td>244.204</td>\n",
       "      <td>535.005</td>\n",
       "      <td>1365.6926</td>\n",
       "      <td>0.0046</td>\n",
       "      <td>0.330</td>\n",
       "    </tr>\n",
       "  </tbody>\n",
       "</table>\n",
       "<p>308 rows × 11 columns</p>\n",
       "</div>"
      ],
      "text/plain": [
       "     Year  Month    MEI     CO2      CH4      N2O   CFC-11   CFC-12  \\\n",
       "0    1983      5  2.556  345.96  1638.59  303.677  191.324  350.113   \n",
       "1    1983      6  2.167  345.52  1633.71  303.746  192.057  351.848   \n",
       "2    1983      7  1.741  344.15  1633.22  303.795  192.818  353.725   \n",
       "3    1983      8  1.130  342.25  1631.35  303.839  193.602  355.633   \n",
       "4    1983      9  0.428  340.17  1648.40  303.901  194.392  357.465   \n",
       "..    ...    ...    ...     ...      ...      ...      ...      ...   \n",
       "303  2008      8 -0.266  384.15  1779.88  321.405  244.200  535.072   \n",
       "304  2008      9 -0.643  383.09  1795.08  321.529  244.083  535.048   \n",
       "305  2008     10 -0.780  382.99  1814.18  321.796  244.080  534.927   \n",
       "306  2008     11 -0.621  384.13  1812.37  322.013  244.225  534.906   \n",
       "307  2008     12 -0.666  385.56  1812.88  322.182  244.204  535.005   \n",
       "\n",
       "           TSI  Aerosols   Temp  \n",
       "0    1366.1024    0.0863  0.109  \n",
       "1    1366.1208    0.0794  0.118  \n",
       "2    1366.2850    0.0731  0.137  \n",
       "3    1366.4202    0.0673  0.176  \n",
       "4    1366.2335    0.0619  0.149  \n",
       "..         ...       ...    ...  \n",
       "303  1365.6570    0.0036  0.407  \n",
       "304  1365.6647    0.0043  0.378  \n",
       "305  1365.6759    0.0046  0.440  \n",
       "306  1365.7065    0.0048  0.394  \n",
       "307  1365.6926    0.0046  0.330  \n",
       "\n",
       "[308 rows x 11 columns]"
      ]
     },
     "execution_count": 4,
     "metadata": {},
     "output_type": "execute_result"
    }
   ],
   "source": [
    "data = pd.read_csv(\"climate_change.csv\")\n",
    "df=pd.DataFrame(data)\n",
    "df"
   ]
  },
  {
   "cell_type": "code",
   "execution_count": 5,
   "metadata": {
    "colab": {
     "base_uri": "https://localhost:8080/"
    },
    "id": "tD81ibTP8B6V",
    "outputId": "d0252b37-199c-484d-be9c-876672e583e7"
   },
   "outputs": [
    {
     "data": {
      "text/plain": [
       "Index(['Year', 'Month', 'MEI', 'CO2', 'CH4', 'N2O', 'CFC-11', 'CFC-12', 'TSI',\n",
       "       'Aerosols', 'Temp'],\n",
       "      dtype='object')"
      ]
     },
     "execution_count": 5,
     "metadata": {},
     "output_type": "execute_result"
    }
   ],
   "source": [
    "df.shape\n",
    "df.columns"
   ]
  },
  {
   "cell_type": "code",
   "execution_count": 6,
   "metadata": {
    "colab": {
     "base_uri": "https://localhost:8080/"
    },
    "id": "vsA6N_Yx8_dr",
    "outputId": "23b235a9-9137-47dc-ab60-f20522362205"
   },
   "outputs": [
    {
     "data": {
      "text/plain": [
       "Year        0\n",
       "Month       0\n",
       "MEI         0\n",
       "CO2         0\n",
       "CH4         0\n",
       "N2O         0\n",
       "CFC-11      0\n",
       "CFC-12      0\n",
       "TSI         0\n",
       "Aerosols    0\n",
       "Temp        0\n",
       "dtype: int64"
      ]
     },
     "execution_count": 6,
     "metadata": {},
     "output_type": "execute_result"
    }
   ],
   "source": [
    "df.isnull().sum()"
   ]
  },
  {
   "cell_type": "code",
   "execution_count": 7,
   "metadata": {
    "colab": {
     "base_uri": "https://localhost:8080/",
     "height": 394
    },
    "id": "6MAFN3dm9FsX",
    "outputId": "96e446aa-25ae-40a2-a885-2fc219b403b4"
   },
   "outputs": [
    {
     "data": {
      "text/html": [
       "<div>\n",
       "<style scoped>\n",
       "    .dataframe tbody tr th:only-of-type {\n",
       "        vertical-align: middle;\n",
       "    }\n",
       "\n",
       "    .dataframe tbody tr th {\n",
       "        vertical-align: top;\n",
       "    }\n",
       "\n",
       "    .dataframe thead th {\n",
       "        text-align: right;\n",
       "    }\n",
       "</style>\n",
       "<table border=\"1\" class=\"dataframe\">\n",
       "  <thead>\n",
       "    <tr style=\"text-align: right;\">\n",
       "      <th></th>\n",
       "      <th>Year</th>\n",
       "      <th>Month</th>\n",
       "      <th>MEI</th>\n",
       "      <th>CO2</th>\n",
       "      <th>CH4</th>\n",
       "      <th>N2O</th>\n",
       "      <th>CFC-11</th>\n",
       "      <th>CFC-12</th>\n",
       "      <th>TSI</th>\n",
       "      <th>Aerosols</th>\n",
       "      <th>Temp</th>\n",
       "    </tr>\n",
       "  </thead>\n",
       "  <tbody>\n",
       "    <tr>\n",
       "      <th>Year</th>\n",
       "      <td>1.000000</td>\n",
       "      <td>-0.025789</td>\n",
       "      <td>-0.145345</td>\n",
       "      <td>0.985379</td>\n",
       "      <td>0.910563</td>\n",
       "      <td>0.994850</td>\n",
       "      <td>0.460965</td>\n",
       "      <td>0.870067</td>\n",
       "      <td>0.022353</td>\n",
       "      <td>-0.361884</td>\n",
       "      <td>0.755731</td>\n",
       "    </tr>\n",
       "    <tr>\n",
       "      <th>Month</th>\n",
       "      <td>-0.025789</td>\n",
       "      <td>1.000000</td>\n",
       "      <td>-0.016345</td>\n",
       "      <td>-0.096287</td>\n",
       "      <td>0.017558</td>\n",
       "      <td>0.012395</td>\n",
       "      <td>-0.014914</td>\n",
       "      <td>-0.001084</td>\n",
       "      <td>-0.032754</td>\n",
       "      <td>0.014845</td>\n",
       "      <td>-0.098016</td>\n",
       "    </tr>\n",
       "    <tr>\n",
       "      <th>MEI</th>\n",
       "      <td>-0.145345</td>\n",
       "      <td>-0.016345</td>\n",
       "      <td>1.000000</td>\n",
       "      <td>-0.152911</td>\n",
       "      <td>-0.105555</td>\n",
       "      <td>-0.162375</td>\n",
       "      <td>0.088171</td>\n",
       "      <td>-0.039836</td>\n",
       "      <td>-0.076826</td>\n",
       "      <td>0.352351</td>\n",
       "      <td>0.135292</td>\n",
       "    </tr>\n",
       "    <tr>\n",
       "      <th>CO2</th>\n",
       "      <td>0.985379</td>\n",
       "      <td>-0.096287</td>\n",
       "      <td>-0.152911</td>\n",
       "      <td>1.000000</td>\n",
       "      <td>0.872253</td>\n",
       "      <td>0.981135</td>\n",
       "      <td>0.401284</td>\n",
       "      <td>0.823210</td>\n",
       "      <td>0.017867</td>\n",
       "      <td>-0.369265</td>\n",
       "      <td>0.748505</td>\n",
       "    </tr>\n",
       "    <tr>\n",
       "      <th>CH4</th>\n",
       "      <td>0.910563</td>\n",
       "      <td>0.017558</td>\n",
       "      <td>-0.105555</td>\n",
       "      <td>0.872253</td>\n",
       "      <td>1.000000</td>\n",
       "      <td>0.894409</td>\n",
       "      <td>0.713504</td>\n",
       "      <td>0.958237</td>\n",
       "      <td>0.146335</td>\n",
       "      <td>-0.290381</td>\n",
       "      <td>0.699697</td>\n",
       "    </tr>\n",
       "    <tr>\n",
       "      <th>N2O</th>\n",
       "      <td>0.994850</td>\n",
       "      <td>0.012395</td>\n",
       "      <td>-0.162375</td>\n",
       "      <td>0.981135</td>\n",
       "      <td>0.894409</td>\n",
       "      <td>1.000000</td>\n",
       "      <td>0.412155</td>\n",
       "      <td>0.839295</td>\n",
       "      <td>0.039892</td>\n",
       "      <td>-0.353499</td>\n",
       "      <td>0.743242</td>\n",
       "    </tr>\n",
       "    <tr>\n",
       "      <th>CFC-11</th>\n",
       "      <td>0.460965</td>\n",
       "      <td>-0.014914</td>\n",
       "      <td>0.088171</td>\n",
       "      <td>0.401284</td>\n",
       "      <td>0.713504</td>\n",
       "      <td>0.412155</td>\n",
       "      <td>1.000000</td>\n",
       "      <td>0.831381</td>\n",
       "      <td>0.284629</td>\n",
       "      <td>-0.032302</td>\n",
       "      <td>0.380111</td>\n",
       "    </tr>\n",
       "    <tr>\n",
       "      <th>CFC-12</th>\n",
       "      <td>0.870067</td>\n",
       "      <td>-0.001084</td>\n",
       "      <td>-0.039836</td>\n",
       "      <td>0.823210</td>\n",
       "      <td>0.958237</td>\n",
       "      <td>0.839295</td>\n",
       "      <td>0.831381</td>\n",
       "      <td>1.000000</td>\n",
       "      <td>0.189270</td>\n",
       "      <td>-0.243785</td>\n",
       "      <td>0.688944</td>\n",
       "    </tr>\n",
       "    <tr>\n",
       "      <th>TSI</th>\n",
       "      <td>0.022353</td>\n",
       "      <td>-0.032754</td>\n",
       "      <td>-0.076826</td>\n",
       "      <td>0.017867</td>\n",
       "      <td>0.146335</td>\n",
       "      <td>0.039892</td>\n",
       "      <td>0.284629</td>\n",
       "      <td>0.189270</td>\n",
       "      <td>1.000000</td>\n",
       "      <td>0.083238</td>\n",
       "      <td>0.182186</td>\n",
       "    </tr>\n",
       "    <tr>\n",
       "      <th>Aerosols</th>\n",
       "      <td>-0.361884</td>\n",
       "      <td>0.014845</td>\n",
       "      <td>0.352351</td>\n",
       "      <td>-0.369265</td>\n",
       "      <td>-0.290381</td>\n",
       "      <td>-0.353499</td>\n",
       "      <td>-0.032302</td>\n",
       "      <td>-0.243785</td>\n",
       "      <td>0.083238</td>\n",
       "      <td>1.000000</td>\n",
       "      <td>-0.392069</td>\n",
       "    </tr>\n",
       "    <tr>\n",
       "      <th>Temp</th>\n",
       "      <td>0.755731</td>\n",
       "      <td>-0.098016</td>\n",
       "      <td>0.135292</td>\n",
       "      <td>0.748505</td>\n",
       "      <td>0.699697</td>\n",
       "      <td>0.743242</td>\n",
       "      <td>0.380111</td>\n",
       "      <td>0.688944</td>\n",
       "      <td>0.182186</td>\n",
       "      <td>-0.392069</td>\n",
       "      <td>1.000000</td>\n",
       "    </tr>\n",
       "  </tbody>\n",
       "</table>\n",
       "</div>"
      ],
      "text/plain": [
       "              Year     Month       MEI       CO2       CH4       N2O  \\\n",
       "Year      1.000000 -0.025789 -0.145345  0.985379  0.910563  0.994850   \n",
       "Month    -0.025789  1.000000 -0.016345 -0.096287  0.017558  0.012395   \n",
       "MEI      -0.145345 -0.016345  1.000000 -0.152911 -0.105555 -0.162375   \n",
       "CO2       0.985379 -0.096287 -0.152911  1.000000  0.872253  0.981135   \n",
       "CH4       0.910563  0.017558 -0.105555  0.872253  1.000000  0.894409   \n",
       "N2O       0.994850  0.012395 -0.162375  0.981135  0.894409  1.000000   \n",
       "CFC-11    0.460965 -0.014914  0.088171  0.401284  0.713504  0.412155   \n",
       "CFC-12    0.870067 -0.001084 -0.039836  0.823210  0.958237  0.839295   \n",
       "TSI       0.022353 -0.032754 -0.076826  0.017867  0.146335  0.039892   \n",
       "Aerosols -0.361884  0.014845  0.352351 -0.369265 -0.290381 -0.353499   \n",
       "Temp      0.755731 -0.098016  0.135292  0.748505  0.699697  0.743242   \n",
       "\n",
       "            CFC-11    CFC-12       TSI  Aerosols      Temp  \n",
       "Year      0.460965  0.870067  0.022353 -0.361884  0.755731  \n",
       "Month    -0.014914 -0.001084 -0.032754  0.014845 -0.098016  \n",
       "MEI       0.088171 -0.039836 -0.076826  0.352351  0.135292  \n",
       "CO2       0.401284  0.823210  0.017867 -0.369265  0.748505  \n",
       "CH4       0.713504  0.958237  0.146335 -0.290381  0.699697  \n",
       "N2O       0.412155  0.839295  0.039892 -0.353499  0.743242  \n",
       "CFC-11    1.000000  0.831381  0.284629 -0.032302  0.380111  \n",
       "CFC-12    0.831381  1.000000  0.189270 -0.243785  0.688944  \n",
       "TSI       0.284629  0.189270  1.000000  0.083238  0.182186  \n",
       "Aerosols -0.032302 -0.243785  0.083238  1.000000 -0.392069  \n",
       "Temp      0.380111  0.688944  0.182186 -0.392069  1.000000  "
      ]
     },
     "execution_count": 7,
     "metadata": {},
     "output_type": "execute_result"
    }
   ],
   "source": [
    "#pearson : standard correlation coefficient(Pair Wise)\n",
    "df.corr()"
   ]
  },
  {
   "cell_type": "code",
   "execution_count": 8,
   "metadata": {
    "colab": {
     "base_uri": "https://localhost:8080/",
     "height": 269
    },
    "id": "GJRYxU0I9ikJ",
    "outputId": "e913c999-df11-414d-86ab-c02a024c74b4"
   },
   "outputs": [
    {
     "data": {
      "image/png": "[encoded data removed]",
      "text/plain": [
       "<Figure size 640x480 with 2 Axes>"
      ]
     },
     "metadata": {},
     "output_type": "display_data"
    }
   ],
   "source": [
    "#heatmap\n",
    "f,ax = plt.subplots()\n",
    "d=data.iloc[:,8:10]\n",
    "sns.heatmap(d.corr(), annot = True, linewidths = .5, fmt = '.2f', ax = ax)\n",
    "plt.show()"
   ]
  },
  {
   "cell_type": "code",
   "execution_count": 9,
   "metadata": {
    "colab": {
     "base_uri": "https://localhost:8080/",
     "height": 265
    },
    "id": "KvTBmNp__irm",
    "outputId": "83b391ae-abd0-44cb-d742-3cecf2022959"
   },
   "outputs": [
    {
     "data": {
      "image/png": "[encoded data removed]",
      "text/plain": [
       "<Figure size 640x480 with 1 Axes>"
      ]
     },
     "metadata": {},
     "output_type": "display_data"
    }
   ],
   "source": [
    "df[\"Aerosols\"].plot(color = 'r',label = \"Aerosols\")\n",
    "df[\"TSI\"].plot(color = \"g\", label = \"TSI\")\n",
    "plt.legend()\n",
    "plt.grid()\n",
    "plt.show()"
   ]
  },
  {
   "cell_type": "code",
   "execution_count": 10,
   "metadata": {
    "id": "PBomoOlKB8mN"
   },
   "outputs": [],
   "source": [
    "from sklearn.model_selection import train_test_split\n",
    "x=df.iloc[:,df.columns != 'TSI']\n",
    "y=df['TSI']\n",
    "x_train, x_test, y_train, y_test= train_test_split(x, y, test_size= 0.3, random_state=42)"
   ]
  },
  {
   "cell_type": "code",
   "execution_count": 11,
   "metadata": {
    "colab": {
     "base_uri": "https://localhost:8080/"
    },
    "id": "XhZashxIDyGr",
    "outputId": "40d11bbc-1077-4a56-9a11-a7fd8a3d4c04"
   },
   "outputs": [
    {
     "name": "stdout",
     "output_type": "stream",
     "text": [
      "0.06607227660968519\n"
     ]
    },
    {
     "data": {
      "text/plain": [
       "0.5735766472847028"
      ]
     },
     "execution_count": 11,
     "metadata": {},
     "output_type": "execute_result"
    }
   ],
   "source": [
    "#LinearRegression\n",
    "from sklearn.linear_model import LinearRegression\n",
    "r1 = LinearRegression().fit(x_train,y_train)\n",
    "y_pred = r1.predict(x_test)\n",
    "from sklearn.metrics import mean_squared_error,r2_score\n",
    "print(mean_squared_error(y_test,y_pred))\n",
    "r2_score(y_test,y_pred)"
   ]
  },
  {
   "cell_type": "code",
   "execution_count": 12,
   "metadata": {
    "colab": {
     "base_uri": "https://localhost:8080/"
    },
    "id": "6G3lnkPTFNcy",
    "outputId": "d2eb9cd0-a138-4fcc-cdc7-9b0e76e8da59"
   },
   "outputs": [
    {
     "name": "stdout",
     "output_type": "stream",
     "text": [
      "0.14715298695852608\n"
     ]
    },
    {
     "data": {
      "text/plain": [
       "0.05029048065634567"
      ]
     },
     "execution_count": 12,
     "metadata": {},
     "output_type": "execute_result"
    }
   ],
   "source": [
    "#Lasso\n",
    "from sklearn.linear_model import Lasso\n",
    "r2 = Lasso(alpha=1.0).fit(x_train,y_train)\n",
    "y_pred = r2.predict(x_test)\n",
    "print(mean_squared_error(y_test,y_pred))\n",
    "r2_score(y_test,y_pred)"
   ]
  },
  {
   "cell_type": "code",
   "execution_count": 13,
   "metadata": {
    "colab": {
     "base_uri": "https://localhost:8080/"
    },
    "id": "zIVStygeFwoI",
    "outputId": "a2be4cb5-f48d-4833-94c8-ff418ada146f"
   },
   "outputs": [
    {
     "name": "stdout",
     "output_type": "stream",
     "text": [
      "0.06921188062494862\n"
     ]
    },
    {
     "data": {
      "text/plain": [
       "0.553313981321248"
      ]
     },
     "execution_count": 13,
     "metadata": {},
     "output_type": "execute_result"
    }
   ],
   "source": [
    "#Ridge\n",
    "from sklearn.linear_model import Ridge\n",
    "r3 = Ridge(alpha=1.0).fit(x_train,y_train)\n",
    "y_pred = r3.predict(x_test)\n",
    "print(mean_squared_error(y_test,y_pred))\n",
    "r2_score(y_test,y_pred)"
   ]
  },
  {
   "cell_type": "code",
   "execution_count": 14,
   "metadata": {
    "colab": {
     "base_uri": "https://localhost:8080/"
    },
    "id": "_id-Qc_YGK22",
    "outputId": "fe32c1ff-ceed-436a-eab0-8d5a05691858"
   },
   "outputs": [
    {
     "name": "stdout",
     "output_type": "stream",
     "text": [
      "0.14648066828726083\n"
     ]
    },
    {
     "data": {
      "text/plain": [
       "0.054629552905779866"
      ]
     },
     "execution_count": 14,
     "metadata": {},
     "output_type": "execute_result"
    }
   ],
   "source": [
    "#ElasticNet\n",
    "from sklearn.linear_model import ElasticNet\n",
    "r4 = ElasticNet(alpha=1.0,l1_ratio=0.5).fit(x_train,y_train)\n",
    "y_pred = r4.predict(x_test)\n",
    "print(mean_squared_error(y_test,y_pred))\n",
    "r2_score(y_test,y_pred)"
   ]
  },
  {
   "cell_type": "code",
   "execution_count": 15,
   "metadata": {
    "colab": {
     "base_uri": "https://localhost:8080/"
    },
    "id": "cY8om4MsG4jj",
    "outputId": "ae576003-9338-4cf0-cbb9-f8cac73c1ac3"
   },
   "outputs": [
    {
     "name": "stdout",
     "output_type": "stream",
     "text": [
      "0.37610684355211144\n"
     ]
    },
    {
     "data": {
      "text/plain": [
       "-1.4273530357382862"
      ]
     },
     "execution_count": 15,
     "metadata": {},
     "output_type": "execute_result"
    }
   ],
   "source": [
    "#Polynmial\n",
    "from sklearn.preprocessing import PolynomialFeatures\n",
    "p_f=PolynomialFeatures(degree=2)\n",
    "ptest=p_f.fit_transform(x_test)\n",
    "ptrain=p_f.fit_transform(x_train)\n",
    "r5=LinearRegression().fit(ptrain,y_train)\n",
    "p_pred=r5.predict(ptest)\n",
    "print(mean_squared_error(y_test,p_pred))\n",
    "r2_score(y_test,p_pred)"
   ]
  },
  {
   "cell_type": "code",
   "execution_count": 16,
   "metadata": {
    "colab": {
     "base_uri": "https://localhost:8080/"
    },
    "id": "qp87knrZcB8I",
    "outputId": "245683aa-defb-4a61-d607-f1f981582fa9"
   },
   "outputs": [
    {
     "name": "stdout",
     "output_type": "stream",
     "text": [
      "0.03957374412790863\n"
     ]
    },
    {
     "data": {
      "text/plain": [
       "0.7445953202095892"
      ]
     },
     "execution_count": 16,
     "metadata": {},
     "output_type": "execute_result"
    }
   ],
   "source": [
    "#rRandomForest\n",
    "from sklearn.ensemble import RandomForestRegressor\n",
    "r6 = RandomForestRegressor(n_estimators = 125).fit(x_train,y_train)\n",
    "y_pred = r6.predict(x_test)\n",
    "print(mean_squared_error(y_test,y_pred))\n",
    "r2_score(y_test,y_pred)"
   ]
  }
 ],
 "metadata": {
  "colab": {
   "provenance": []
  },
  "kernelspec": {
   "display_name": "Python 3 (ipykernel)",
   "language": "python",
   "name": "python3"
  },
  "language_info": {
   "codemirror_mode": {
    "name": "ipython",
    "version": 3
   },
   "file_extension": ".py",
   "mimetype": "text/x-python",
   "name": "python",
   "nbconvert_exporter": "python",
   "pygments_lexer": "ipython3",
   "version": "3.10.6"
  }
 },
 "nbformat": 4,
 "nbformat_minor": 1
}
